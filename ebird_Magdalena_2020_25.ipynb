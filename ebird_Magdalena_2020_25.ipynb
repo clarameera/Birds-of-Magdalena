{
 "cells": [
  {
   "cell_type": "code",
   "execution_count": 1,
   "id": "de6bdcc5-31de-457a-9fa7-8423e9b0ade8",
   "metadata": {},
   "outputs": [],
   "source": [
    "import pandas as pd"
   ]
  },
  {
   "cell_type": "code",
   "execution_count": 2,
   "id": "9b373f02-c19a-4aeb-89e7-322c3418e6ab",
   "metadata": {},
   "outputs": [],
   "source": [
    "load_ext sql"
   ]
  },
  {
   "cell_type": "code",
   "execution_count": 3,
   "id": "56fb752a-68c1-4868-ae69-28c2572cbfd1",
   "metadata": {},
   "outputs": [
    {
     "data": {
      "text/html": [
       "<span style=\"None\">Connecting to &#x27;duckdb://&#x27;</span>"
      ],
      "text/plain": [
       "Connecting to 'duckdb://'"
      ]
     },
     "metadata": {},
     "output_type": "display_data"
    }
   ],
   "source": [
    "%sql duckdb://"
   ]
  },
  {
   "cell_type": "code",
   "execution_count": 4,
   "id": "c02ced54-39d2-48bd-8f0f-14071c1ea853",
   "metadata": {
    "scrolled": true
   },
   "outputs": [
    {
     "data": {
      "text/html": [
       "<span style=\"None\">Running query in &#x27;duckdb://&#x27;</span>"
      ],
      "text/plain": [
       "Running query in 'duckdb://'"
      ]
     },
     "metadata": {},
     "output_type": "display_data"
    },
    {
     "data": {
      "text/html": [
       "<table>\n",
       "    <thead>\n",
       "        <tr>\n",
       "            <th>Count</th>\n",
       "        </tr>\n",
       "    </thead>\n",
       "    <tbody>\n",
       "    </tbody>\n",
       "</table>"
      ],
      "text/plain": [
       "+-------+\n",
       "| Count |\n",
       "+-------+\n",
       "+-------+"
      ]
     },
     "execution_count": 4,
     "metadata": {},
     "output_type": "execute_result"
    }
   ],
   "source": [
    "%%sql \n",
    "CREATE or REPLACE TABLE my_birds AS \n",
    "FROM read_csv_auto('/Users/clarahughes/DATA/Birds/Ebird/Magdalena_2020_2025/ebd_CO-MAG_202001_202505_relMay-2025.txt')\n",
    ";"
   ]
  },
  {
   "cell_type": "code",
   "execution_count": 6,
   "id": "98244430-e86f-495f-8bea-e0be58c45661",
   "metadata": {},
   "outputs": [],
   "source": [
    "table = pd.read_table('/Users/clarahughes/DATA/Birds/Ebird/Magdalena_2020_2025/ebd_CO-MAG_202001_202505_relMay-2025.txt', low_memory=False)"
   ]
  },
  {
   "cell_type": "code",
   "execution_count": 7,
   "id": "4be2a380-9512-4901-abd2-9bccca099a55",
   "metadata": {
    "scrolled": true
   },
   "outputs": [
    {
     "name": "stdout",
     "output_type": "stream",
     "text": [
      "<class 'pandas.core.frame.DataFrame'>\n",
      "RangeIndex: 998216 entries, 0 to 998215\n",
      "Data columns (total 53 columns):\n",
      " #   Column                      Non-Null Count   Dtype  \n",
      "---  ------                      --------------   -----  \n",
      " 0   GLOBAL UNIQUE IDENTIFIER    998216 non-null  object \n",
      " 1   LAST EDITED DATE            998216 non-null  object \n",
      " 2   TAXONOMIC ORDER             998216 non-null  int64  \n",
      " 3   CATEGORY                    998216 non-null  object \n",
      " 4   TAXON CONCEPT ID            998216 non-null  object \n",
      " 5   COMMON NAME                 998216 non-null  object \n",
      " 6   SCIENTIFIC NAME             998216 non-null  object \n",
      " 7   SUBSPECIES COMMON NAME      41053 non-null   object \n",
      " 8   SUBSPECIES SCIENTIFIC NAME  41053 non-null   object \n",
      " 9   EXOTIC CODE                 2068 non-null    object \n",
      " 10  OBSERVATION COUNT           998216 non-null  object \n",
      " 11  BREEDING CODE               14384 non-null   object \n",
      " 12  BREEDING CATEGORY           14384 non-null   object \n",
      " 13  BEHAVIOR CODE               14384 non-null   object \n",
      " 14  AGE/SEX                     1140 non-null    object \n",
      " 15  COUNTRY                     998216 non-null  object \n",
      " 16  COUNTRY CODE                998216 non-null  object \n",
      " 17  STATE                       998216 non-null  object \n",
      " 18  STATE CODE                  998216 non-null  object \n",
      " 19  COUNTY                      0 non-null       float64\n",
      " 20  COUNTY CODE                 0 non-null       float64\n",
      " 21  IBA CODE                    233653 non-null  object \n",
      " 22  BCR CODE                    0 non-null       float64\n",
      " 23  USFWS CODE                  0 non-null       float64\n",
      " 24  ATLAS BLOCK                 0 non-null       float64\n",
      " 25  LOCALITY                    998216 non-null  object \n",
      " 26  LOCALITY ID                 998216 non-null  object \n",
      " 27  LOCALITY TYPE               998216 non-null  object \n",
      " 28  LATITUDE                    998216 non-null  float64\n",
      " 29  LONGITUDE                   998216 non-null  float64\n",
      " 30  OBSERVATION DATE            998216 non-null  object \n",
      " 31  TIME OBSERVATIONS STARTED   995187 non-null  object \n",
      " 32  OBSERVER ID                 998216 non-null  object \n",
      " 33  OBSERVER ORCID ID           4109 non-null    object \n",
      " 34  SAMPLING EVENT IDENTIFIER   998216 non-null  object \n",
      " 35  OBSERVATION TYPE            998216 non-null  object \n",
      " 36  PROTOCOL NAME               998216 non-null  object \n",
      " 37  PROTOCOL CODE               998216 non-null  object \n",
      " 38  PROJECT NAMES               1921 non-null    object \n",
      " 39  PROJECT IDENTIFIERS         1921 non-null    float64\n",
      " 40  DURATION MINUTES            963007 non-null  float64\n",
      " 41  EFFORT DISTANCE KM          821359 non-null  float64\n",
      " 42  EFFORT AREA HA              212 non-null     float64\n",
      " 43  NUMBER OBSERVERS            994461 non-null  float64\n",
      " 44  ALL SPECIES REPORTED        998216 non-null  int64  \n",
      " 45  GROUP IDENTIFIER            701075 non-null  object \n",
      " 46  HAS MEDIA                   998216 non-null  int64  \n",
      " 47  APPROVED                    998216 non-null  int64  \n",
      " 48  REVIEWED                    998216 non-null  int64  \n",
      " 49  REASON                      0 non-null       float64\n",
      " 50  CHECKLIST COMMENTS          91571 non-null   object \n",
      " 51  SPECIES COMMENTS            52029 non-null   object \n",
      " 52  Unnamed: 52                 0 non-null       float64\n",
      "dtypes: float64(14), int64(5), object(34)\n",
      "memory usage: 403.6+ MB\n"
     ]
    }
   ],
   "source": [
    "table.info()"
   ]
  },
  {
   "cell_type": "code",
   "execution_count": 8,
   "id": "52c413bc-0006-4226-b35a-c0d7816dcf56",
   "metadata": {},
   "outputs": [
    {
     "data": {
      "text/html": [
       "<span style=\"None\">Running query in &#x27;duckdb://&#x27;</span>"
      ],
      "text/plain": [
       "Running query in 'duckdb://'"
      ]
     },
     "metadata": {},
     "output_type": "display_data"
    },
    {
     "data": {
      "text/html": [
       "<table>\n",
       "    <thead>\n",
       "        <tr>\n",
       "            <th>Count</th>\n",
       "        </tr>\n",
       "    </thead>\n",
       "    <tbody>\n",
       "    </tbody>\n",
       "</table>"
      ],
      "text/plain": [
       "+-------+\n",
       "| Count |\n",
       "+-------+\n",
       "+-------+"
      ]
     },
     "execution_count": 8,
     "metadata": {},
     "output_type": "execute_result"
    }
   ],
   "source": [
    "%%sql CREATE VIEW my_view AS SELECT \"GLOBAL UNIQUE IDENTIFIER\", \"COMMON NAME\", \"SCIENTIFIC NAME\", \"TAXONOMIC ORDER\", \"CATEGORY\",\n",
    "    \"OBSERVATION COUNT\", \"AGE/SEX\", \"EXOTIC CODE\", \"IBA CODE\", \"BCR CODE\", \"LATITUDE\", \"LONGITUDE\", \"OBSERVATION DATE\", \n",
    "    \"TIME OBSERVATIONS STARTED\", \"OBSERVER ID\", \"OBSERVATION TYPE\", \"PROTOCOL CODE\", \"DURATION MINUTES\",\n",
    "    \"EFFORT DISTANCE KM\", \"NUMBER OBSERVERS\", \"ALL SPECIES REPORTED\", \"REVIEWED\", \"CHECKLIST COMMENTS\", \"SPECIES COMMENTS\"\n",
    "FROM my_birds;"
   ]
  },
  {
   "cell_type": "code",
   "execution_count": 9,
   "id": "b1c440fe-2d4d-4e20-a047-16c8c3c49f3e",
   "metadata": {},
   "outputs": [
    {
     "data": {
      "text/html": [
       "<span style=\"None\">Running query in &#x27;duckdb://&#x27;</span>"
      ],
      "text/plain": [
       "Running query in 'duckdb://'"
      ]
     },
     "metadata": {},
     "output_type": "display_data"
    }
   ],
   "source": [
    "result = %sql SELECT * FROM my_view;"
   ]
  },
  {
   "cell_type": "code",
   "execution_count": 10,
   "id": "d38260db-3730-474c-b05c-d3168ea1f929",
   "metadata": {},
   "outputs": [],
   "source": [
    "result = result.DataFrame()"
   ]
  },
  {
   "cell_type": "code",
   "execution_count": 11,
   "id": "12dcf5e2-7de3-41a1-b9ac-bffe92e250c1",
   "metadata": {},
   "outputs": [
    {
     "data": {
      "text/plain": [
       "pandas.core.frame.DataFrame"
      ]
     },
     "execution_count": 11,
     "metadata": {},
     "output_type": "execute_result"
    }
   ],
   "source": [
    "type(result)"
   ]
  },
  {
   "cell_type": "code",
   "execution_count": 12,
   "id": "5162bbe0-8230-479a-9a33-40e892fd7658",
   "metadata": {},
   "outputs": [],
   "source": [
    "result.to_csv(\"ebird_magdelena_20_25.csv\", index = False)"
   ]
  },
  {
   "cell_type": "code",
   "execution_count": null,
   "id": "bc357b74-0744-4539-8239-e63ad5cd14e9",
   "metadata": {},
   "outputs": [],
   "source": []
  }
 ],
 "metadata": {
  "kernelspec": {
   "display_name": "Python 3 (ipykernel)",
   "language": "python",
   "name": "python3"
  },
  "language_info": {
   "codemirror_mode": {
    "name": "ipython",
    "version": 3
   },
   "file_extension": ".py",
   "mimetype": "text/x-python",
   "name": "python",
   "nbconvert_exporter": "python",
   "pygments_lexer": "ipython3",
   "version": "3.12.5"
  }
 },
 "nbformat": 4,
 "nbformat_minor": 5
}
